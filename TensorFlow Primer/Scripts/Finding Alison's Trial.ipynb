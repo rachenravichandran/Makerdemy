{
 "cells": [
  {
   "cell_type": "markdown",
   "metadata": {},
   "source": [
    "# Finding Alison's Trial"
   ]
  },
  {
   "cell_type": "markdown",
   "metadata": {},
   "source": [
    "### Linear regression"
   ]
  },
  {
   "cell_type": "markdown",
   "metadata": {},
   "source": [
    "We'll import ‘tensorflow’ for implementing the Machine Learning algorithm. We'll also import ‘numpy’ and ‘pandas’ library to handle the ‘Alison_locations.csv’ file. These libraries provide functions to make vector operations and manipulations extremely easy and are of common occurrence in Data Science. ‘matplotlib’ is another library, which we'll import, for plotting graphs."
   ]
  },
  {
   "cell_type": "code",
   "execution_count": 1,
   "metadata": {},
   "outputs": [
    {
     "name": "stderr",
     "output_type": "stream",
     "text": [
      "C:\\ProgramData\\Anaconda3\\lib\\site-packages\\h5py\\__init__.py:36: FutureWarning: Conversion of the second argument of issubdtype from `float` to `np.floating` is deprecated. In future, it will be treated as `np.float64 == np.dtype(float).type`.\n",
      "  from ._conv import register_converters as _register_converters\n"
     ]
    }
   ],
   "source": [
    "import tensorflow as tf\n",
    "import numpy as np\n",
    "import pandas as pd\n",
    "import matplotlib.pyplot as plt\n",
    "\n",
    "#Press ‘Shift + Enter’ to execute the codes in the cell. "
   ]
  },
  {
   "cell_type": "markdown",
   "metadata": {},
   "source": [
    "Alison's GPS locations is in a file named 'Alison_locations.csv' from which we can extract the data using the ‘read_csv’ function of Pandas library."
   ]
  },
  {
   "cell_type": "code",
   "execution_count": 2,
   "metadata": {},
   "outputs": [],
   "source": [
    "raw_data = pd.read_csv('Alison_locations.csv')"
   ]
  },
  {
   "cell_type": "markdown",
   "metadata": {},
   "source": [
    "Type ‘raw_data’ in a cell and execute it to display the data in a well-formatted table (called DataFrame in Pandas.) In Notebook, we can find the contents of any variable by just typing its name and executing it in a cell."
   ]
  },
  {
   "cell_type": "code",
   "execution_count": 3,
   "metadata": {},
   "outputs": [
    {
     "data": {
      "text/html": [
       "<div>\n",
       "<style scoped>\n",
       "    .dataframe tbody tr th:only-of-type {\n",
       "        vertical-align: middle;\n",
       "    }\n",
       "\n",
       "    .dataframe tbody tr th {\n",
       "        vertical-align: top;\n",
       "    }\n",
       "\n",
       "    .dataframe thead th {\n",
       "        text-align: right;\n",
       "    }\n",
       "</style>\n",
       "<table border=\"1\" class=\"dataframe\">\n",
       "  <thead>\n",
       "    <tr style=\"text-align: right;\">\n",
       "      <th></th>\n",
       "      <th>x-location</th>\n",
       "      <th>y-location</th>\n",
       "    </tr>\n",
       "  </thead>\n",
       "  <tbody>\n",
       "    <tr>\n",
       "      <th>0</th>\n",
       "      <td>0.000000</td>\n",
       "      <td>0.023562</td>\n",
       "    </tr>\n",
       "    <tr>\n",
       "      <th>1</th>\n",
       "      <td>0.075758</td>\n",
       "      <td>1.075883</td>\n",
       "    </tr>\n",
       "    <tr>\n",
       "      <th>2</th>\n",
       "      <td>0.151515</td>\n",
       "      <td>-3.142503</td>\n",
       "    </tr>\n",
       "    <tr>\n",
       "      <th>3</th>\n",
       "      <td>0.227273</td>\n",
       "      <td>0.796472</td>\n",
       "    </tr>\n",
       "    <tr>\n",
       "      <th>4</th>\n",
       "      <td>0.303030</td>\n",
       "      <td>0.003829</td>\n",
       "    </tr>\n",
       "    <tr>\n",
       "      <th>5</th>\n",
       "      <td>0.378788</td>\n",
       "      <td>-1.480323</td>\n",
       "    </tr>\n",
       "    <tr>\n",
       "      <th>6</th>\n",
       "      <td>0.454545</td>\n",
       "      <td>-0.450275</td>\n",
       "    </tr>\n",
       "    <tr>\n",
       "      <th>7</th>\n",
       "      <td>0.530303</td>\n",
       "      <td>-0.337767</td>\n",
       "    </tr>\n",
       "    <tr>\n",
       "      <th>8</th>\n",
       "      <td>0.606061</td>\n",
       "      <td>-0.614588</td>\n",
       "    </tr>\n",
       "    <tr>\n",
       "      <th>9</th>\n",
       "      <td>0.681818</td>\n",
       "      <td>-2.511151</td>\n",
       "    </tr>\n",
       "    <tr>\n",
       "      <th>10</th>\n",
       "      <td>0.757576</td>\n",
       "      <td>-0.388478</td>\n",
       "    </tr>\n",
       "    <tr>\n",
       "      <th>11</th>\n",
       "      <td>0.833333</td>\n",
       "      <td>3.148683</td>\n",
       "    </tr>\n",
       "    <tr>\n",
       "      <th>12</th>\n",
       "      <td>0.909091</td>\n",
       "      <td>1.155125</td>\n",
       "    </tr>\n",
       "    <tr>\n",
       "      <th>13</th>\n",
       "      <td>0.984848</td>\n",
       "      <td>-0.869489</td>\n",
       "    </tr>\n",
       "    <tr>\n",
       "      <th>14</th>\n",
       "      <td>1.060606</td>\n",
       "      <td>3.190952</td>\n",
       "    </tr>\n",
       "    <tr>\n",
       "      <th>15</th>\n",
       "      <td>1.136364</td>\n",
       "      <td>2.582814</td>\n",
       "    </tr>\n",
       "    <tr>\n",
       "      <th>16</th>\n",
       "      <td>1.212121</td>\n",
       "      <td>3.471905</td>\n",
       "    </tr>\n",
       "    <tr>\n",
       "      <th>17</th>\n",
       "      <td>1.287879</td>\n",
       "      <td>4.369596</td>\n",
       "    </tr>\n",
       "    <tr>\n",
       "      <th>18</th>\n",
       "      <td>1.363636</td>\n",
       "      <td>2.312520</td>\n",
       "    </tr>\n",
       "    <tr>\n",
       "      <th>19</th>\n",
       "      <td>1.439394</td>\n",
       "      <td>5.161356</td>\n",
       "    </tr>\n",
       "    <tr>\n",
       "      <th>20</th>\n",
       "      <td>1.515152</td>\n",
       "      <td>0.632855</td>\n",
       "    </tr>\n",
       "    <tr>\n",
       "      <th>21</th>\n",
       "      <td>1.590909</td>\n",
       "      <td>-2.946093</td>\n",
       "    </tr>\n",
       "    <tr>\n",
       "      <th>22</th>\n",
       "      <td>1.666667</td>\n",
       "      <td>1.699149</td>\n",
       "    </tr>\n",
       "    <tr>\n",
       "      <th>23</th>\n",
       "      <td>1.742424</td>\n",
       "      <td>8.690892</td>\n",
       "    </tr>\n",
       "    <tr>\n",
       "      <th>24</th>\n",
       "      <td>1.818182</td>\n",
       "      <td>4.092244</td>\n",
       "    </tr>\n",
       "    <tr>\n",
       "      <th>25</th>\n",
       "      <td>1.893939</td>\n",
       "      <td>-0.625612</td>\n",
       "    </tr>\n",
       "    <tr>\n",
       "      <th>26</th>\n",
       "      <td>1.969697</td>\n",
       "      <td>6.185879</td>\n",
       "    </tr>\n",
       "    <tr>\n",
       "      <th>27</th>\n",
       "      <td>2.045455</td>\n",
       "      <td>5.369413</td>\n",
       "    </tr>\n",
       "    <tr>\n",
       "      <th>28</th>\n",
       "      <td>2.121212</td>\n",
       "      <td>1.986852</td>\n",
       "    </tr>\n",
       "    <tr>\n",
       "      <th>29</th>\n",
       "      <td>2.196970</td>\n",
       "      <td>0.676941</td>\n",
       "    </tr>\n",
       "    <tr>\n",
       "      <th>...</th>\n",
       "      <td>...</td>\n",
       "      <td>...</td>\n",
       "    </tr>\n",
       "    <tr>\n",
       "      <th>103</th>\n",
       "      <td>7.803030</td>\n",
       "      <td>19.028759</td>\n",
       "    </tr>\n",
       "    <tr>\n",
       "      <th>104</th>\n",
       "      <td>7.878788</td>\n",
       "      <td>15.471341</td>\n",
       "    </tr>\n",
       "    <tr>\n",
       "      <th>105</th>\n",
       "      <td>7.954545</td>\n",
       "      <td>17.921696</td>\n",
       "    </tr>\n",
       "    <tr>\n",
       "      <th>106</th>\n",
       "      <td>8.030303</td>\n",
       "      <td>15.260965</td>\n",
       "    </tr>\n",
       "    <tr>\n",
       "      <th>107</th>\n",
       "      <td>8.106061</td>\n",
       "      <td>17.786157</td>\n",
       "    </tr>\n",
       "    <tr>\n",
       "      <th>108</th>\n",
       "      <td>8.181818</td>\n",
       "      <td>14.368438</td>\n",
       "    </tr>\n",
       "    <tr>\n",
       "      <th>109</th>\n",
       "      <td>8.257576</td>\n",
       "      <td>19.549753</td>\n",
       "    </tr>\n",
       "    <tr>\n",
       "      <th>110</th>\n",
       "      <td>8.333333</td>\n",
       "      <td>16.460067</td>\n",
       "    </tr>\n",
       "    <tr>\n",
       "      <th>111</th>\n",
       "      <td>8.409091</td>\n",
       "      <td>22.557789</td>\n",
       "    </tr>\n",
       "    <tr>\n",
       "      <th>112</th>\n",
       "      <td>8.484848</td>\n",
       "      <td>21.071736</td>\n",
       "    </tr>\n",
       "    <tr>\n",
       "      <th>113</th>\n",
       "      <td>8.560606</td>\n",
       "      <td>20.108659</td>\n",
       "    </tr>\n",
       "    <tr>\n",
       "      <th>114</th>\n",
       "      <td>8.636364</td>\n",
       "      <td>22.011822</td>\n",
       "    </tr>\n",
       "    <tr>\n",
       "      <th>115</th>\n",
       "      <td>8.712121</td>\n",
       "      <td>14.124973</td>\n",
       "    </tr>\n",
       "    <tr>\n",
       "      <th>116</th>\n",
       "      <td>8.787879</td>\n",
       "      <td>19.378837</td>\n",
       "    </tr>\n",
       "    <tr>\n",
       "      <th>117</th>\n",
       "      <td>8.863636</td>\n",
       "      <td>17.580476</td>\n",
       "    </tr>\n",
       "    <tr>\n",
       "      <th>118</th>\n",
       "      <td>8.939394</td>\n",
       "      <td>18.164057</td>\n",
       "    </tr>\n",
       "    <tr>\n",
       "      <th>119</th>\n",
       "      <td>9.015152</td>\n",
       "      <td>22.942281</td>\n",
       "    </tr>\n",
       "    <tr>\n",
       "      <th>120</th>\n",
       "      <td>9.090909</td>\n",
       "      <td>17.822189</td>\n",
       "    </tr>\n",
       "    <tr>\n",
       "      <th>121</th>\n",
       "      <td>9.166667</td>\n",
       "      <td>21.920668</td>\n",
       "    </tr>\n",
       "    <tr>\n",
       "      <th>122</th>\n",
       "      <td>9.242424</td>\n",
       "      <td>22.184452</td>\n",
       "    </tr>\n",
       "    <tr>\n",
       "      <th>123</th>\n",
       "      <td>9.318182</td>\n",
       "      <td>17.862357</td>\n",
       "    </tr>\n",
       "    <tr>\n",
       "      <th>124</th>\n",
       "      <td>9.393939</td>\n",
       "      <td>19.153989</td>\n",
       "    </tr>\n",
       "    <tr>\n",
       "      <th>125</th>\n",
       "      <td>9.469697</td>\n",
       "      <td>19.328874</td>\n",
       "    </tr>\n",
       "    <tr>\n",
       "      <th>126</th>\n",
       "      <td>9.545455</td>\n",
       "      <td>19.320488</td>\n",
       "    </tr>\n",
       "    <tr>\n",
       "      <th>127</th>\n",
       "      <td>9.621212</td>\n",
       "      <td>18.338479</td>\n",
       "    </tr>\n",
       "    <tr>\n",
       "      <th>128</th>\n",
       "      <td>9.696970</td>\n",
       "      <td>21.997821</td>\n",
       "    </tr>\n",
       "    <tr>\n",
       "      <th>129</th>\n",
       "      <td>9.772727</td>\n",
       "      <td>28.339716</td>\n",
       "    </tr>\n",
       "    <tr>\n",
       "      <th>130</th>\n",
       "      <td>9.848485</td>\n",
       "      <td>17.306930</td>\n",
       "    </tr>\n",
       "    <tr>\n",
       "      <th>131</th>\n",
       "      <td>9.924242</td>\n",
       "      <td>18.793568</td>\n",
       "    </tr>\n",
       "    <tr>\n",
       "      <th>132</th>\n",
       "      <td>10.000000</td>\n",
       "      <td>22.156910</td>\n",
       "    </tr>\n",
       "  </tbody>\n",
       "</table>\n",
       "<p>133 rows × 2 columns</p>\n",
       "</div>"
      ],
      "text/plain": [
       "     x-location  y-location\n",
       "0      0.000000    0.023562\n",
       "1      0.075758    1.075883\n",
       "2      0.151515   -3.142503\n",
       "3      0.227273    0.796472\n",
       "4      0.303030    0.003829\n",
       "5      0.378788   -1.480323\n",
       "6      0.454545   -0.450275\n",
       "7      0.530303   -0.337767\n",
       "8      0.606061   -0.614588\n",
       "9      0.681818   -2.511151\n",
       "10     0.757576   -0.388478\n",
       "11     0.833333    3.148683\n",
       "12     0.909091    1.155125\n",
       "13     0.984848   -0.869489\n",
       "14     1.060606    3.190952\n",
       "15     1.136364    2.582814\n",
       "16     1.212121    3.471905\n",
       "17     1.287879    4.369596\n",
       "18     1.363636    2.312520\n",
       "19     1.439394    5.161356\n",
       "20     1.515152    0.632855\n",
       "21     1.590909   -2.946093\n",
       "22     1.666667    1.699149\n",
       "23     1.742424    8.690892\n",
       "24     1.818182    4.092244\n",
       "25     1.893939   -0.625612\n",
       "26     1.969697    6.185879\n",
       "27     2.045455    5.369413\n",
       "28     2.121212    1.986852\n",
       "29     2.196970    0.676941\n",
       "..          ...         ...\n",
       "103    7.803030   19.028759\n",
       "104    7.878788   15.471341\n",
       "105    7.954545   17.921696\n",
       "106    8.030303   15.260965\n",
       "107    8.106061   17.786157\n",
       "108    8.181818   14.368438\n",
       "109    8.257576   19.549753\n",
       "110    8.333333   16.460067\n",
       "111    8.409091   22.557789\n",
       "112    8.484848   21.071736\n",
       "113    8.560606   20.108659\n",
       "114    8.636364   22.011822\n",
       "115    8.712121   14.124973\n",
       "116    8.787879   19.378837\n",
       "117    8.863636   17.580476\n",
       "118    8.939394   18.164057\n",
       "119    9.015152   22.942281\n",
       "120    9.090909   17.822189\n",
       "121    9.166667   21.920668\n",
       "122    9.242424   22.184452\n",
       "123    9.318182   17.862357\n",
       "124    9.393939   19.153989\n",
       "125    9.469697   19.328874\n",
       "126    9.545455   19.320488\n",
       "127    9.621212   18.338479\n",
       "128    9.696970   21.997821\n",
       "129    9.772727   28.339716\n",
       "130    9.848485   17.306930\n",
       "131    9.924242   18.793568\n",
       "132   10.000000   22.156910\n",
       "\n",
       "[133 rows x 2 columns]"
      ]
     },
     "execution_count": 3,
     "metadata": {},
     "output_type": "execute_result"
    }
   ],
   "source": [
    "raw_data"
   ]
  },
  {
   "cell_type": "markdown",
   "metadata": {},
   "source": [
    "We'll separate the x-location and y-location column "
   ]
  },
  {
   "cell_type": "code",
   "execution_count": 4,
   "metadata": {},
   "outputs": [],
   "source": [
    "x = raw_data['x-location']\n",
    "y = raw_data['y-location']"
   ]
  },
  {
   "cell_type": "markdown",
   "metadata": {},
   "source": [
    "And plot x and y in a graph as a Scatter plot."
   ]
  },
  {
   "cell_type": "code",
   "execution_count": 5,
   "metadata": {},
   "outputs": [
    {
     "data": {
      "text/plain": [
       "<matplotlib.collections.PathCollection at 0x2aab04f2898>"
      ]
     },
     "execution_count": 5,
     "metadata": {},
     "output_type": "execute_result"
    },
    {
     "data": {
      "image/png": "[encoded data removed]",
      "text/plain": [
       "<Figure size 432x288 with 1 Axes>"
      ]
     },
     "metadata": {},
     "output_type": "display_data"
    }
   ],
   "source": [
    "%matplotlib inline \n",
    "#this allows the plot to be displayed within the notebook\n",
    "\n",
    "plt.scatter(x, y)"
   ]
  },
  {
   "cell_type": "markdown",
   "metadata": {},
   "source": [
    "### My Algorithm"
   ]
  },
  {
   "cell_type": "markdown",
   "metadata": {},
   "source": [
    "1. Frame the equation: y = m * x + c\n",
    "2. Assign initial values as 0 to the variables, ‘m’ and ‘c’.\n",
    "3. Train the model to find the true value of ‘m’ and ‘c’ over several iterations using values of y for x <= 10 and make sure that the error is reduced at each step.\n",
    "4. Use this predicted value of ‘m’ and ‘c’ to find ‘y’ locations when x > 10.\n",
    "5. Plot the graph and find out the path traced by Alison."
   ]
  },
  {
   "cell_type": "markdown",
   "metadata": {},
   "source": [
    "X_input and Y_output are the input and output placeholders respectively."
   ]
  },
  {
   "cell_type": "code",
   "execution_count": 6,
   "metadata": {},
   "outputs": [],
   "source": [
    "X_input = tf.placeholder(\"float\")\n",
    "Y_output = tf.placeholder(\"float\")"
   ]
  },
  {
   "cell_type": "markdown",
   "metadata": {},
   "source": [
    "m and c are slope and y-intercept variables"
   ]
  },
  {
   "cell_type": "code",
   "execution_count": 7,
   "metadata": {},
   "outputs": [],
   "source": [
    "m = tf.Variable(0.0)\n",
    "c = tf.Variable(0.0)"
   ]
  },
  {
   "cell_type": "markdown",
   "metadata": {},
   "source": [
    "To find the values of ‘y’ using the assigned or updated values of ‘m’ and ‘c’ for corresponding x value, we use this equation:"
   ]
  },
  {
   "cell_type": "code",
   "execution_count": 8,
   "metadata": {},
   "outputs": [],
   "source": [
    "y_model = m * X_input + c"
   ]
  },
  {
   "cell_type": "markdown",
   "metadata": {},
   "source": [
    "To calculate the error between the calculated y_model and true y values, we'll compute the following cost or error function:"
   ]
  },
  {
   "cell_type": "code",
   "execution_count": 9,
   "metadata": {},
   "outputs": [],
   "source": [
    "cost = tf.reduce_mean(tf.square(Y_output - y_model))"
   ]
  },
  {
   "cell_type": "markdown",
   "metadata": {},
   "source": [
    "TensorFlow provides a function called ‘Gradient Descent Optimizer’ which tries to reduce the error or minimize the value of cost function during training. ‘learning_rate’ is the rate at which error is to be minimized. Using high ‘learning_rate’ can cause the error to fluctuate while using a lower value can slow down the process. So, I'd recommended to use 0.01."
   ]
  },
  {
   "cell_type": "code",
   "execution_count": 10,
   "metadata": {},
   "outputs": [],
   "source": [
    "train_op = tf.train.GradientDescentOptimizer(learning_rate = 0.01).minimize(cost)"
   ]
  },
  {
   "cell_type": "markdown",
   "metadata": {},
   "source": [
    "Instead of displaying a value of 0 for m, the output will show the data type of the variable:"
   ]
  },
  {
   "cell_type": "code",
   "execution_count": 11,
   "metadata": {},
   "outputs": [
    {
     "data": {
      "text/plain": [
       "<tf.Variable 'Variable:0' shape=() dtype=float32_ref>"
      ]
     },
     "execution_count": 11,
     "metadata": {},
     "output_type": "execute_result"
    }
   ],
   "source": [
    "m"
   ]
  },
  {
   "cell_type": "markdown",
   "metadata": {},
   "source": [
    "Similar is the case for other variables."
   ]
  },
  {
   "cell_type": "code",
   "execution_count": 12,
   "metadata": {},
   "outputs": [
    {
     "data": {
      "text/plain": [
       "<tf.Tensor 'Placeholder:0' shape=<unknown> dtype=float32>"
      ]
     },
     "execution_count": 12,
     "metadata": {},
     "output_type": "execute_result"
    }
   ],
   "source": [
    "X_input"
   ]
  },
  {
   "cell_type": "code",
   "execution_count": 13,
   "metadata": {},
   "outputs": [
    {
     "data": {
      "text/plain": [
       "<tf.Tensor 'Placeholder_1:0' shape=<unknown> dtype=float32>"
      ]
     },
     "execution_count": 13,
     "metadata": {},
     "output_type": "execute_result"
    }
   ],
   "source": [
    "Y_output"
   ]
  },
  {
   "cell_type": "code",
   "execution_count": 14,
   "metadata": {},
   "outputs": [
    {
     "data": {
      "text/plain": [
       "<tf.Variable 'Variable_1:0' shape=() dtype=float32_ref>"
      ]
     },
     "execution_count": 14,
     "metadata": {},
     "output_type": "execute_result"
    }
   ],
   "source": [
    "c"
   ]
  },
  {
   "cell_type": "code",
   "execution_count": 15,
   "metadata": {},
   "outputs": [
    {
     "data": {
      "text/plain": [
       "<tf.Tensor 'add:0' shape=<unknown> dtype=float32>"
      ]
     },
     "execution_count": 15,
     "metadata": {},
     "output_type": "execute_result"
    }
   ],
   "source": [
    "y_model"
   ]
  },
  {
   "cell_type": "code",
   "execution_count": 16,
   "metadata": {},
   "outputs": [
    {
     "data": {
      "text/plain": [
       "<tf.Tensor 'Mean:0' shape=() dtype=float32>"
      ]
     },
     "execution_count": 16,
     "metadata": {},
     "output_type": "execute_result"
    }
   ],
   "source": [
    "cost"
   ]
  },
  {
   "cell_type": "code",
   "execution_count": 17,
   "metadata": {},
   "outputs": [
    {
     "data": {
      "text/plain": [
       "<tf.Operation 'GradientDescent' type=NoOp>"
      ]
     },
     "execution_count": 17,
     "metadata": {},
     "output_type": "execute_result"
    }
   ],
   "source": [
    "train_op"
   ]
  },
  {
   "cell_type": "markdown",
   "metadata": {},
   "source": [
    "This is because all these variables, placeholders and operations are treated as objects which will not be executed until a special function ‘run()’ of the object type ‘Session()’ is called. We can create a Session() object by typing the following line.\n",
    "sess = tf.Session()\n",
    "Note : To execute any object in TensorFlow, one could do the following:\n",
    "sess.run(object_name) \n",
    "Though the values of variables ‘m’ and ‘c’ are indicated as 0 while declaring them, they aren’t initialized yet. So, the function ‘tf.global_variables_initializer()’ is used to initialize the values of all the variables created so far."
   ]
  },
  {
   "cell_type": "code",
   "execution_count": 18,
   "metadata": {},
   "outputs": [],
   "source": [
    "sess = tf.Session()\n",
    "init = tf.global_variables_initializer()\n",
    "sess.run(init)"
   ]
  },
  {
   "cell_type": "markdown",
   "metadata": {},
   "source": [
    "We can train the model 1000 times to get a better accuracy, where training_epochs is the number of training iterations."
   ]
  },
  {
   "cell_type": "code",
   "execution_count": 19,
   "metadata": {},
   "outputs": [],
   "source": [
    "training_epochs = 1000"
   ]
  },
  {
   "cell_type": "markdown",
   "metadata": {},
   "source": [
    "In each iteration, we can execute the object ‘train_op’ using sess.run() function. Inputs x and y are assigned to the placeholders X_input and Y_output while executing the ‘train_op’ object."
   ]
  },
  {
   "cell_type": "code",
   "execution_count": 20,
   "metadata": {},
   "outputs": [],
   "source": [
    "for epoch in range(training_epochs):\n",
    "    sess.run(train_op, feed_dict = {X_input : x, Y_output : y})"
   ]
  },
  {
   "cell_type": "markdown",
   "metadata": {},
   "source": [
    "Recover the predicted value of ‘m’ and ‘c’ "
   ]
  },
  {
   "cell_type": "code",
   "execution_count": 21,
   "metadata": {},
   "outputs": [],
   "source": [
    "m_val = sess.run(m)\n",
    "c_val = sess.run(c)"
   ]
  },
  {
   "cell_type": "markdown",
   "metadata": {},
   "source": [
    "Call the sess.close() method to close all the used resources."
   ]
  },
  {
   "cell_type": "code",
   "execution_count": 22,
   "metadata": {},
   "outputs": [],
   "source": [
    "sess.close()"
   ]
  },
  {
   "cell_type": "markdown",
   "metadata": {},
   "source": [
    "Calculated the learned y value using predicted values of ‘m’ and ‘c’ and plot the same in a graph."
   ]
  },
  {
   "cell_type": "code",
   "execution_count": 23,
   "metadata": {
    "scrolled": true
   },
   "outputs": [
    {
     "data": {
      "text/plain": [
       "[<matplotlib.lines.Line2D at 0x2aab085d2b0>]"
      ]
     },
     "execution_count": 23,
     "metadata": {},
     "output_type": "execute_result"
    },
    {
     "data": {
      "image/png": "[encoded data removed]",
      "text/plain": [
       "<Figure size 432x288 with 1 Axes>"
      ]
     },
     "metadata": {},
     "output_type": "display_data"
    }
   ],
   "source": [
    "y_learned = m_val * x + c_val\n",
    "plt.scatter(x, y)\n",
    "plt.plot(x, y_learned, 'r')"
   ]
  },
  {
   "cell_type": "markdown",
   "metadata": {},
   "source": [
    "The machine had learnt to find a continuous curve from a set of labeled inputs (hence, supervised learning) through a statistical concept called regression and since the output is a straight line, this type is often referred to as Linear Regression."
   ]
  },
  {
   "cell_type": "markdown",
   "metadata": {},
   "source": [
    "To predict the y coordinates of Alison’s trial for x > 10, we'll create an evenly spaced array from 10 to 20 with 100 points between them using np.linspace() method."
   ]
  },
  {
   "cell_type": "code",
   "execution_count": 24,
   "metadata": {},
   "outputs": [],
   "source": [
    "predict_x = np.linspace(10,20,100)\n",
    "predict_y = m_val * predict_x  + c_val"
   ]
  },
  {
   "cell_type": "markdown",
   "metadata": {},
   "source": [
    "Finally, we'll plot the various graphs: input graph, learned graph, and the most important of them all – the predicted graph"
   ]
  },
  {
   "cell_type": "code",
   "execution_count": 25,
   "metadata": {},
   "outputs": [
    {
     "data": {
      "text/plain": [
       "[<matplotlib.lines.Line2D at 0x2aab0af0550>]"
      ]
     },
     "execution_count": 25,
     "metadata": {},
     "output_type": "execute_result"
    },
    {
     "data": {
      "image/png": "[encoded data removed]",
      "text/plain": [
       "<Figure size 432x288 with 1 Axes>"
      ]
     },
     "metadata": {},
     "output_type": "display_data"
    }
   ],
   "source": [
    "plt.scatter(x, y)\n",
    "plt.plot(x, y_learned, 'r')\n",
    "plt.plot(predict_x,predict_y,'g')"
   ]
  },
  {
   "cell_type": "markdown",
   "metadata": {},
   "source": [
    "## ALISON'S TRIAL IS PREDICTED AS THE GREEN LINE"
   ]
  }
 ],
 "metadata": {
  "kernelspec": {
   "display_name": "Python 3",
   "language": "python",
   "name": "python3"
  },
  "language_info": {
   "codemirror_mode": {
    "name": "ipython",
    "version": 3
   },
   "file_extension": ".py",
   "mimetype": "text/x-python",
   "name": "python",
   "nbconvert_exporter": "python",
   "pygments_lexer": "ipython3",
   "version": "3.6.5"
  }
 },
 "nbformat": 4,
 "nbformat_minor": 1
}
